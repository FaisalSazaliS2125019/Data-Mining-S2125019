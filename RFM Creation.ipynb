{
 "cells": [
  {
   "cell_type": "markdown",
   "id": "f729b3dd",
   "metadata": {},
   "source": [
    "## Feature Generation for K-Means Clustering Algorithm"
   ]
  },
  {
   "cell_type": "code",
   "execution_count": 1,
   "id": "940fa036",
   "metadata": {},
   "outputs": [],
   "source": [
    "import pandas as pd\n",
    "import numpy as np\n",
    "import matplotlib.pyplot as plt\n",
    "import datetime as dt\n",
    "import seaborn as sns\n",
    "sns.set()"
   ]
  },
  {
   "cell_type": "code",
   "execution_count": 6,
   "id": "31d6c92e",
   "metadata": {},
   "outputs": [],
   "source": [
    "rawdata = pd.read_csv('C:/Users/faisa/Dropbox/SEM 2 2022-2023 I/Data Mining/Exam/Final Exam 2/Raw Data/retail_transaction_clean_TRAIN.csv')\n"
   ]
  },
  {
   "cell_type": "code",
   "execution_count": 7,
   "id": "3892016e",
   "metadata": {
    "scrolled": true
   },
   "outputs": [
    {
     "data": {
      "text/html": [
       "<div>\n",
       "<style scoped>\n",
       "    .dataframe tbody tr th:only-of-type {\n",
       "        vertical-align: middle;\n",
       "    }\n",
       "\n",
       "    .dataframe tbody tr th {\n",
       "        vertical-align: top;\n",
       "    }\n",
       "\n",
       "    .dataframe thead th {\n",
       "        text-align: right;\n",
       "    }\n",
       "</style>\n",
       "<table border=\"1\" class=\"dataframe\">\n",
       "  <thead>\n",
       "    <tr style=\"text-align: right;\">\n",
       "      <th></th>\n",
       "      <th>Invoice</th>\n",
       "      <th>StockCode</th>\n",
       "      <th>Description</th>\n",
       "      <th>Quantity</th>\n",
       "      <th>InvoiceDate</th>\n",
       "      <th>Price</th>\n",
       "      <th>Country</th>\n",
       "      <th>Customer_ID</th>\n",
       "    </tr>\n",
       "  </thead>\n",
       "  <tbody>\n",
       "    <tr>\n",
       "      <th>0</th>\n",
       "      <td>489434</td>\n",
       "      <td>85048</td>\n",
       "      <td>15CM CHRISTMAS GLASS BALL 20 LIGHTS</td>\n",
       "      <td>12</td>\n",
       "      <td>01DEC09:07:45:00</td>\n",
       "      <td>6.95</td>\n",
       "      <td>United Kingdom</td>\n",
       "      <td>13085</td>\n",
       "    </tr>\n",
       "    <tr>\n",
       "      <th>1</th>\n",
       "      <td>489434</td>\n",
       "      <td>79323P</td>\n",
       "      <td>PINK CHERRY LIGHTS</td>\n",
       "      <td>12</td>\n",
       "      <td>01DEC09:07:45:00</td>\n",
       "      <td>6.75</td>\n",
       "      <td>United Kingdom</td>\n",
       "      <td>13085</td>\n",
       "    </tr>\n",
       "    <tr>\n",
       "      <th>2</th>\n",
       "      <td>489434</td>\n",
       "      <td>79323W</td>\n",
       "      <td>WHITE CHERRY LIGHTS</td>\n",
       "      <td>12</td>\n",
       "      <td>01DEC09:07:45:00</td>\n",
       "      <td>6.75</td>\n",
       "      <td>United Kingdom</td>\n",
       "      <td>13085</td>\n",
       "    </tr>\n",
       "    <tr>\n",
       "      <th>3</th>\n",
       "      <td>489434</td>\n",
       "      <td>22041</td>\n",
       "      <td>RECORD FRAME 7\" SINGLE SIZE</td>\n",
       "      <td>48</td>\n",
       "      <td>01DEC09:07:45:00</td>\n",
       "      <td>2.10</td>\n",
       "      <td>United Kingdom</td>\n",
       "      <td>13085</td>\n",
       "    </tr>\n",
       "    <tr>\n",
       "      <th>4</th>\n",
       "      <td>489434</td>\n",
       "      <td>21232</td>\n",
       "      <td>STRAWBERRY CERAMIC TRINKET BOX</td>\n",
       "      <td>24</td>\n",
       "      <td>01DEC09:07:45:00</td>\n",
       "      <td>1.25</td>\n",
       "      <td>United Kingdom</td>\n",
       "      <td>13085</td>\n",
       "    </tr>\n",
       "  </tbody>\n",
       "</table>\n",
       "</div>"
      ],
      "text/plain": [
       "   Invoice StockCode                          Description  Quantity  \\\n",
       "0   489434     85048  15CM CHRISTMAS GLASS BALL 20 LIGHTS        12   \n",
       "1   489434    79323P                   PINK CHERRY LIGHTS        12   \n",
       "2   489434    79323W                  WHITE CHERRY LIGHTS        12   \n",
       "3   489434     22041          RECORD FRAME 7\" SINGLE SIZE        48   \n",
       "4   489434     21232       STRAWBERRY CERAMIC TRINKET BOX        24   \n",
       "\n",
       "        InvoiceDate  Price         Country  Customer_ID  \n",
       "0  01DEC09:07:45:00   6.95  United Kingdom        13085  \n",
       "1  01DEC09:07:45:00   6.75  United Kingdom        13085  \n",
       "2  01DEC09:07:45:00   6.75  United Kingdom        13085  \n",
       "3  01DEC09:07:45:00   2.10  United Kingdom        13085  \n",
       "4  01DEC09:07:45:00   1.25  United Kingdom        13085  "
      ]
     },
     "execution_count": 7,
     "metadata": {},
     "output_type": "execute_result"
    }
   ],
   "source": [
    "rawdata.head()  "
   ]
  },
  {
   "cell_type": "code",
   "execution_count": 35,
   "id": "c13d98f2",
   "metadata": {},
   "outputs": [],
   "source": [
    "#rawdata['FormatDate1'] = rawdata['InvoiceDate'].dt.strftime('%Y-%m-%d-%H:%M:%S')\n",
    "rawdata['InvDateTransformed'] = pd.to_datetime(rawdata.InvoiceDate, format = '%d%b%y:%H:%M:%S')"
   ]
  },
  {
   "cell_type": "code",
   "execution_count": 36,
   "id": "bdb3baa2",
   "metadata": {},
   "outputs": [
    {
     "data": {
      "text/plain": [
       "0        2009-12-01 07:45:00\n",
       "1        2009-12-01 07:45:00\n",
       "2        2009-12-01 07:45:00\n",
       "3        2009-12-01 07:45:00\n",
       "4        2009-12-01 07:45:00\n",
       "                 ...        \n",
       "407690   2010-12-09 20:01:00\n",
       "407691   2010-12-09 20:01:00\n",
       "407692   2010-12-09 20:01:00\n",
       "407693   2010-12-09 20:01:00\n",
       "407694   2010-12-09 20:01:00\n",
       "Name: InvDateTransformed, Length: 407695, dtype: datetime64[ns]"
      ]
     },
     "execution_count": 36,
     "metadata": {},
     "output_type": "execute_result"
    }
   ],
   "source": [
    "rawdata['InvDateTransformed']"
   ]
  },
  {
   "cell_type": "code",
   "execution_count": 37,
   "id": "be50f3b0",
   "metadata": {
    "scrolled": true
   },
   "outputs": [
    {
     "name": "stdout",
     "output_type": "stream",
     "text": [
      "<class 'pandas.core.frame.DataFrame'>\n",
      "RangeIndex: 407695 entries, 0 to 407694\n",
      "Data columns (total 10 columns):\n",
      " #   Column              Non-Null Count   Dtype         \n",
      "---  ------              --------------   -----         \n",
      " 0   Invoice             407695 non-null  int64         \n",
      " 1   StockCode           407695 non-null  object        \n",
      " 2   Description         407695 non-null  object        \n",
      " 3   Quantity            407695 non-null  int64         \n",
      " 4   InvoiceDate         407695 non-null  object        \n",
      " 5   Price               407695 non-null  float64       \n",
      " 6   Country             407695 non-null  object        \n",
      " 7   Customer_ID         407695 non-null  int64         \n",
      " 8   FormatDate1         407695 non-null  datetime64[ns]\n",
      " 9   InvDateTransformed  407695 non-null  datetime64[ns]\n",
      "dtypes: datetime64[ns](2), float64(1), int64(3), object(4)\n",
      "memory usage: 31.1+ MB\n"
     ]
    }
   ],
   "source": [
    "rawdata.info()"
   ]
  },
  {
   "cell_type": "code",
   "execution_count": 38,
   "id": "6323c1e2",
   "metadata": {},
   "outputs": [],
   "source": [
    "# Including Related Data to Feature Generation\n",
    "relatedata = rawdata[['Customer_ID','InvDateTransformed','Invoice','Quantity','Price']]"
   ]
  },
  {
   "cell_type": "code",
   "execution_count": 39,
   "id": "6334b888",
   "metadata": {},
   "outputs": [
    {
     "name": "stderr",
     "output_type": "stream",
     "text": [
      "C:\\Users\\faisa\\AppData\\Local\\Temp\\ipykernel_29248\\2196994105.py:1: SettingWithCopyWarning: \n",
      "A value is trying to be set on a copy of a slice from a DataFrame.\n",
      "Try using .loc[row_indexer,col_indexer] = value instead\n",
      "\n",
      "See the caveats in the documentation: https://pandas.pydata.org/pandas-docs/stable/user_guide/indexing.html#returning-a-view-versus-a-copy\n",
      "  relatedata['TotalSum'] = relatedata['Quantity'] * relatedata['Price']\n"
     ]
    }
   ],
   "source": [
    "relatedata['TotalSum'] = relatedata['Quantity'] * relatedata['Price']"
   ]
  },
  {
   "cell_type": "code",
   "execution_count": 41,
   "id": "7eff0938",
   "metadata": {},
   "outputs": [
    {
     "data": {
      "text/plain": [
       "(Timestamp('2009-12-01 07:45:00'), Timestamp('2010-12-09 20:01:00'))"
      ]
     },
     "execution_count": 41,
     "metadata": {},
     "output_type": "execute_result"
    }
   ],
   "source": [
    "relatedata['InvDateTransformed'].min(), relatedata['InvDateTransformed'].max()"
   ]
  },
  {
   "cell_type": "code",
   "execution_count": 42,
   "id": "2b159088",
   "metadata": {},
   "outputs": [],
   "source": [
    "Present = dt.datetime(2010,12,10)"
   ]
  },
  {
   "cell_type": "code",
   "execution_count": 43,
   "id": "39a05971",
   "metadata": {},
   "outputs": [
    {
     "data": {
      "text/html": [
       "<div>\n",
       "<style scoped>\n",
       "    .dataframe tbody tr th:only-of-type {\n",
       "        vertical-align: middle;\n",
       "    }\n",
       "\n",
       "    .dataframe tbody tr th {\n",
       "        vertical-align: top;\n",
       "    }\n",
       "\n",
       "    .dataframe thead th {\n",
       "        text-align: right;\n",
       "    }\n",
       "</style>\n",
       "<table border=\"1\" class=\"dataframe\">\n",
       "  <thead>\n",
       "    <tr style=\"text-align: right;\">\n",
       "      <th></th>\n",
       "      <th>Customer_ID</th>\n",
       "      <th>InvDateTransformed</th>\n",
       "      <th>Invoice</th>\n",
       "      <th>Quantity</th>\n",
       "      <th>Price</th>\n",
       "      <th>TotalSum</th>\n",
       "    </tr>\n",
       "  </thead>\n",
       "  <tbody>\n",
       "    <tr>\n",
       "      <th>407690</th>\n",
       "      <td>17530</td>\n",
       "      <td>2010-12-09 20:01:00</td>\n",
       "      <td>538171</td>\n",
       "      <td>2</td>\n",
       "      <td>2.95</td>\n",
       "      <td>5.90</td>\n",
       "    </tr>\n",
       "    <tr>\n",
       "      <th>407691</th>\n",
       "      <td>17530</td>\n",
       "      <td>2010-12-09 20:01:00</td>\n",
       "      <td>538171</td>\n",
       "      <td>1</td>\n",
       "      <td>3.75</td>\n",
       "      <td>3.75</td>\n",
       "    </tr>\n",
       "    <tr>\n",
       "      <th>407692</th>\n",
       "      <td>17530</td>\n",
       "      <td>2010-12-09 20:01:00</td>\n",
       "      <td>538171</td>\n",
       "      <td>1</td>\n",
       "      <td>3.75</td>\n",
       "      <td>3.75</td>\n",
       "    </tr>\n",
       "    <tr>\n",
       "      <th>407693</th>\n",
       "      <td>17530</td>\n",
       "      <td>2010-12-09 20:01:00</td>\n",
       "      <td>538171</td>\n",
       "      <td>2</td>\n",
       "      <td>3.75</td>\n",
       "      <td>7.50</td>\n",
       "    </tr>\n",
       "    <tr>\n",
       "      <th>407694</th>\n",
       "      <td>17530</td>\n",
       "      <td>2010-12-09 20:01:00</td>\n",
       "      <td>538171</td>\n",
       "      <td>2</td>\n",
       "      <td>1.95</td>\n",
       "      <td>3.90</td>\n",
       "    </tr>\n",
       "  </tbody>\n",
       "</table>\n",
       "</div>"
      ],
      "text/plain": [
       "        Customer_ID  InvDateTransformed  Invoice  Quantity  Price  TotalSum\n",
       "407690        17530 2010-12-09 20:01:00   538171         2   2.95      5.90\n",
       "407691        17530 2010-12-09 20:01:00   538171         1   3.75      3.75\n",
       "407692        17530 2010-12-09 20:01:00   538171         1   3.75      3.75\n",
       "407693        17530 2010-12-09 20:01:00   538171         2   3.75      7.50\n",
       "407694        17530 2010-12-09 20:01:00   538171         2   1.95      3.90"
      ]
     },
     "execution_count": 43,
     "metadata": {},
     "output_type": "execute_result"
    }
   ],
   "source": [
    "relatedata.tail()"
   ]
  },
  {
   "cell_type": "code",
   "execution_count": 45,
   "id": "0fb74714",
   "metadata": {},
   "outputs": [],
   "source": [
    "# Creation of RFM features\n",
    "\n",
    "RFM = relatedata.groupby('Customer_ID').agg({'InvDateTransformed': lambda date: (Present - date.max()).days,\n",
    "                                        'Invoice': lambda num: len(num),\n",
    "                                        'TotalSum': lambda price: price.sum()})"
   ]
  },
  {
   "cell_type": "code",
   "execution_count": 47,
   "id": "a69a4270",
   "metadata": {},
   "outputs": [
    {
     "data": {
      "text/html": [
       "<div>\n",
       "<style scoped>\n",
       "    .dataframe tbody tr th:only-of-type {\n",
       "        vertical-align: middle;\n",
       "    }\n",
       "\n",
       "    .dataframe tbody tr th {\n",
       "        vertical-align: top;\n",
       "    }\n",
       "\n",
       "    .dataframe thead th {\n",
       "        text-align: right;\n",
       "    }\n",
       "</style>\n",
       "<table border=\"1\" class=\"dataframe\">\n",
       "  <thead>\n",
       "    <tr style=\"text-align: right;\">\n",
       "      <th></th>\n",
       "      <th>InvDateTransformed</th>\n",
       "      <th>Invoice</th>\n",
       "      <th>TotalSum</th>\n",
       "    </tr>\n",
       "    <tr>\n",
       "      <th>Customer_ID</th>\n",
       "      <th></th>\n",
       "      <th></th>\n",
       "      <th></th>\n",
       "    </tr>\n",
       "  </thead>\n",
       "  <tbody>\n",
       "    <tr>\n",
       "      <th>12346</th>\n",
       "      <td>164</td>\n",
       "      <td>33</td>\n",
       "      <td>372.86</td>\n",
       "    </tr>\n",
       "    <tr>\n",
       "      <th>12347</th>\n",
       "      <td>2</td>\n",
       "      <td>71</td>\n",
       "      <td>1323.32</td>\n",
       "    </tr>\n",
       "    <tr>\n",
       "      <th>12348</th>\n",
       "      <td>73</td>\n",
       "      <td>20</td>\n",
       "      <td>222.16</td>\n",
       "    </tr>\n",
       "    <tr>\n",
       "      <th>12349</th>\n",
       "      <td>42</td>\n",
       "      <td>102</td>\n",
       "      <td>2671.14</td>\n",
       "    </tr>\n",
       "    <tr>\n",
       "      <th>12351</th>\n",
       "      <td>10</td>\n",
       "      <td>21</td>\n",
       "      <td>300.93</td>\n",
       "    </tr>\n",
       "  </tbody>\n",
       "</table>\n",
       "</div>"
      ],
      "text/plain": [
       "             InvDateTransformed  Invoice  TotalSum\n",
       "Customer_ID                                       \n",
       "12346                       164       33    372.86\n",
       "12347                         2       71   1323.32\n",
       "12348                        73       20    222.16\n",
       "12349                        42      102   2671.14\n",
       "12351                        10       21    300.93"
      ]
     },
     "execution_count": 47,
     "metadata": {},
     "output_type": "execute_result"
    }
   ],
   "source": [
    "RFM.head()"
   ]
  },
  {
   "cell_type": "code",
   "execution_count": 48,
   "id": "75a2bcee",
   "metadata": {},
   "outputs": [],
   "source": [
    "RFM.columns =['Recency','Frequency','Monetary']"
   ]
  },
  {
   "cell_type": "code",
   "execution_count": 49,
   "id": "7da41068",
   "metadata": {},
   "outputs": [
    {
     "data": {
      "text/html": [
       "<div>\n",
       "<style scoped>\n",
       "    .dataframe tbody tr th:only-of-type {\n",
       "        vertical-align: middle;\n",
       "    }\n",
       "\n",
       "    .dataframe tbody tr th {\n",
       "        vertical-align: top;\n",
       "    }\n",
       "\n",
       "    .dataframe thead th {\n",
       "        text-align: right;\n",
       "    }\n",
       "</style>\n",
       "<table border=\"1\" class=\"dataframe\">\n",
       "  <thead>\n",
       "    <tr style=\"text-align: right;\">\n",
       "      <th></th>\n",
       "      <th>Recency</th>\n",
       "      <th>Frequency</th>\n",
       "      <th>Monetary</th>\n",
       "    </tr>\n",
       "    <tr>\n",
       "      <th>Customer_ID</th>\n",
       "      <th></th>\n",
       "      <th></th>\n",
       "      <th></th>\n",
       "    </tr>\n",
       "  </thead>\n",
       "  <tbody>\n",
       "    <tr>\n",
       "      <th>12346</th>\n",
       "      <td>164</td>\n",
       "      <td>33</td>\n",
       "      <td>372.86</td>\n",
       "    </tr>\n",
       "    <tr>\n",
       "      <th>12347</th>\n",
       "      <td>2</td>\n",
       "      <td>71</td>\n",
       "      <td>1323.32</td>\n",
       "    </tr>\n",
       "    <tr>\n",
       "      <th>12348</th>\n",
       "      <td>73</td>\n",
       "      <td>20</td>\n",
       "      <td>222.16</td>\n",
       "    </tr>\n",
       "    <tr>\n",
       "      <th>12349</th>\n",
       "      <td>42</td>\n",
       "      <td>102</td>\n",
       "      <td>2671.14</td>\n",
       "    </tr>\n",
       "    <tr>\n",
       "      <th>12351</th>\n",
       "      <td>10</td>\n",
       "      <td>21</td>\n",
       "      <td>300.93</td>\n",
       "    </tr>\n",
       "  </tbody>\n",
       "</table>\n",
       "</div>"
      ],
      "text/plain": [
       "             Recency  Frequency  Monetary\n",
       "Customer_ID                              \n",
       "12346            164         33    372.86\n",
       "12347              2         71   1323.32\n",
       "12348             73         20    222.16\n",
       "12349             42        102   2671.14\n",
       "12351             10         21    300.93"
      ]
     },
     "execution_count": 49,
     "metadata": {},
     "output_type": "execute_result"
    }
   ],
   "source": [
    "RFM.head()"
   ]
  },
  {
   "cell_type": "code",
   "execution_count": 50,
   "id": "d45c9001",
   "metadata": {},
   "outputs": [],
   "source": [
    "RFM.to_csv('RFM Dataset.csv')"
   ]
  }
 ],
 "metadata": {
  "kernelspec": {
   "display_name": "Python 3 (ipykernel)",
   "language": "python",
   "name": "python3"
  },
  "language_info": {
   "codemirror_mode": {
    "name": "ipython",
    "version": 3
   },
   "file_extension": ".py",
   "mimetype": "text/x-python",
   "name": "python",
   "nbconvert_exporter": "python",
   "pygments_lexer": "ipython3",
   "version": "3.9.13"
  }
 },
 "nbformat": 4,
 "nbformat_minor": 5
}
